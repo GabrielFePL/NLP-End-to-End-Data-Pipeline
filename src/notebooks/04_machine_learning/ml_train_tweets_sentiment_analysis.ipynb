{
 "cells": [
  {
   "cell_type": "markdown",
   "metadata": {
    "application/vnd.databricks.v1+cell": {
     "cellMetadata": {
      "byteLimit": 2048000,
      "rowLimit": 10000
     },
     "inputWidgets": {},
     "nuid": "7ec963ca-a442-49eb-801b-c34e4016f053",
     "showTitle": false,
     "tableResultSettingsMap": {},
     "title": ""
    }
   },
   "source": [
    "# Machine Learning Train and Test for Tweets Sentiment Analysis"
   ]
  },
  {
   "cell_type": "markdown",
   "metadata": {
    "application/vnd.databricks.v1+cell": {
     "cellMetadata": {
      "byteLimit": 2048000,
      "rowLimit": 10000
     },
     "inputWidgets": {},
     "nuid": "3072f341-37f1-491e-908f-689121102368",
     "showTitle": false,
     "tableResultSettingsMap": {},
     "title": ""
    }
   },
   "source": [
    "## Environment Setup"
   ]
  },
  {
   "cell_type": "code",
   "execution_count": 0,
   "metadata": {
    "application/vnd.databricks.v1+cell": {
     "cellMetadata": {
      "byteLimit": 2048000,
      "rowLimit": 10000
     },
     "inputWidgets": {},
     "nuid": "0f52f0ce-1528-4565-8ebf-c1a673100907",
     "showTitle": false,
     "tableResultSettingsMap": {},
     "title": ""
    }
   },
   "outputs": [],
   "source": [
    "from pyspark.sql import SparkSession\n",
    "from pyspark.ml import Pipeline\n",
    "from pyspark.ml.feature import Tokenizer, StopWordsRemover, Word2Vec\n",
    "from pyspark.ml.classification import LogisticRegression\n",
    "from pyspark.ml.evaluation import BinaryClassificationEvaluator\n",
    "from pyspark.ml.tuning import ParamGridBuilder, CrossValidator\n",
    "import mlflow\n",
    "import mlflow.spark\n",
    "from mlflow.models.signature import ModelSignature\n",
    "from mlflow.types.schema import Schema, ColSpec"
   ]
  },
  {
   "cell_type": "code",
   "execution_count": 0,
   "metadata": {
    "application/vnd.databricks.v1+cell": {
     "cellMetadata": {
      "byteLimit": 2048000,
      "rowLimit": 10000
     },
     "inputWidgets": {},
     "nuid": "7cd2718a-2290-45a0-bf4b-e1b93d3bd918",
     "showTitle": false,
     "tableResultSettingsMap": {},
     "title": ""
    }
   },
   "outputs": [
    {
     "output_type": "display_data",
     "data": {
      "text/html": [
       "<style scoped>\n",
       "  .table-result-container {\n",
       "    max-height: 300px;\n",
       "    overflow: auto;\n",
       "  }\n",
       "  table, th, td {\n",
       "    border: 1px solid black;\n",
       "    border-collapse: collapse;\n",
       "  }\n",
       "  th, td {\n",
       "    padding: 5px;\n",
       "  }\n",
       "  th {\n",
       "    text-align: left;\n",
       "  }\n",
       "</style><div class='table-result-container'><table class='table-result'><thead style='background-color: white'><tr><th>label</th><th>text</th></tr></thead><tbody><tr><td>0</td><td>user father dysfunct selfish drag kid dysfunct run</td></tr><tr><td>0</td><td>user user thank lyft credit use caus offer wheelchair van pdx disapoint getthank</td></tr><tr><td>0</td><td>bihday majesti</td></tr><tr><td>0</td><td>model love u take u time ur</td></tr><tr><td>0</td><td>factsguid societi motiv</td></tr><tr><td>0</td><td>huge fan fare big talk leav chao pay disput get allshowandnogo</td></tr><tr><td>0</td><td>user camp tomorrow user user user user user user user danni</td></tr><tr><td>0</td><td>next school year year exam think school exam hate imagin actorslif revolutionschool girl</td></tr><tr><td>0</td><td>love land allin cav champion cleveland clevelandcavali</td></tr><tr><td>0</td><td>user user welcom</td></tr><tr><td>0</td><td>ireland consum price index mom climb previous may blog silver gold forex</td></tr><tr><td>0</td><td>selfish orlando standwithorlando pulseshoot orlandoshoot biggerproblem selfish heabreak valu love</td></tr><tr><td>0</td><td>get see daddi today gettingf</td></tr><tr><td>1</td><td>user cnn call michigan middl school build wall chant tcot</td></tr><tr><td>1</td><td>comment australia opkillingbay seashepherd helpcovedolphin thecov helpcovedolphin</td></tr><tr><td>0</td><td>ouch junior angri junior yugyoem omg</td></tr><tr><td>0</td><td>thank paner thank posit</td></tr><tr><td>1</td><td>retweet agre</td></tr><tr><td>0</td><td>friday smile around via ig user user cooki make peopl</td></tr><tr><td>0</td><td>know essenti oil made chemic</td></tr></tbody></table></div>"
      ]
     },
     "metadata": {
      "application/vnd.databricks.v1+output": {
       "addedWidgets": {},
       "aggData": [],
       "aggError": "",
       "aggOverflow": false,
       "aggSchema": [],
       "aggSeriesLimitReached": false,
       "aggType": "",
       "arguments": {},
       "columnCustomDisplayInfos": {},
       "data": [
        [
         0,
         "user father dysfunct selfish drag kid dysfunct run"
        ],
        [
         0,
         "user user thank lyft credit use caus offer wheelchair van pdx disapoint getthank"
        ],
        [
         0,
         "bihday majesti"
        ],
        [
         0,
         "model love u take u time ur"
        ],
        [
         0,
         "factsguid societi motiv"
        ],
        [
         0,
         "huge fan fare big talk leav chao pay disput get allshowandnogo"
        ],
        [
         0,
         "user camp tomorrow user user user user user user user danni"
        ],
        [
         0,
         "next school year year exam think school exam hate imagin actorslif revolutionschool girl"
        ],
        [
         0,
         "love land allin cav champion cleveland clevelandcavali"
        ],
        [
         0,
         "user user welcom"
        ],
        [
         0,
         "ireland consum price index mom climb previous may blog silver gold forex"
        ],
        [
         0,
         "selfish orlando standwithorlando pulseshoot orlandoshoot biggerproblem selfish heabreak valu love"
        ],
        [
         0,
         "get see daddi today gettingf"
        ],
        [
         1,
         "user cnn call michigan middl school build wall chant tcot"
        ],
        [
         1,
         "comment australia opkillingbay seashepherd helpcovedolphin thecov helpcovedolphin"
        ],
        [
         0,
         "ouch junior angri junior yugyoem omg"
        ],
        [
         0,
         "thank paner thank posit"
        ],
        [
         1,
         "retweet agre"
        ],
        [
         0,
         "friday smile around via ig user user cooki make peopl"
        ],
        [
         0,
         "know essenti oil made chemic"
        ]
       ],
       "datasetInfos": [],
       "dbfsResultPath": null,
       "isJsonSchema": true,
       "metadata": {},
       "overflow": false,
       "plotOptions": {
        "customPlotOptions": {},
        "displayType": "table",
        "pivotAggregation": null,
        "pivotColumns": null,
        "xColumns": null,
        "yColumns": null
       },
       "removedWidgets": [],
       "schema": [
        {
         "metadata": "{}",
         "name": "label",
         "type": "\"integer\""
        },
        {
         "metadata": "{}",
         "name": "text",
         "type": "\"string\""
        }
       ],
       "type": "table"
      }
     },
     "output_type": "display_data"
    }
   ],
   "source": [
    "df_balanced_tweets = spark.table(\"nlp_analysis.silver_layer.labeled_tweets\")\n",
    "display(df_balanced_tweets.limit(20))"
   ]
  },
  {
   "cell_type": "code",
   "execution_count": 0,
   "metadata": {
    "application/vnd.databricks.v1+cell": {
     "cellMetadata": {
      "byteLimit": 2048000,
      "rowLimit": 10000
     },
     "inputWidgets": {},
     "nuid": "5d531443-2ca6-4540-8c33-da28e2c7ee17",
     "showTitle": false,
     "tableResultSettingsMap": {},
     "title": ""
    }
   },
   "outputs": [],
   "source": [
    "df_test = spark.table(\"nlp_analysis.silver_layer.test_tweets\")"
   ]
  },
  {
   "cell_type": "markdown",
   "metadata": {
    "application/vnd.databricks.v1+cell": {
     "cellMetadata": {
      "byteLimit": 2048000,
      "rowLimit": 10000
     },
     "inputWidgets": {},
     "nuid": "f3ca40b6-6cbe-4f34-827b-452b9ec63a4e",
     "showTitle": false,
     "tableResultSettingsMap": {},
     "title": ""
    }
   },
   "source": [
    "## Machine Learning Pipeline"
   ]
  },
  {
   "cell_type": "code",
   "execution_count": 0,
   "metadata": {
    "application/vnd.databricks.v1+cell": {
     "cellMetadata": {
      "byteLimit": 2048000,
      "rowLimit": 10000
     },
     "inputWidgets": {},
     "nuid": "35669ac0-528a-44b8-8610-939bd19ebed0",
     "showTitle": false,
     "tableResultSettingsMap": {},
     "title": ""
    }
   },
   "outputs": [],
   "source": [
    "train_df, test_df = df_balanced_tweets.randomSplit([0.75, 0.25], seed=42)"
   ]
  },
  {
   "cell_type": "code",
   "execution_count": 0,
   "metadata": {
    "application/vnd.databricks.v1+cell": {
     "cellMetadata": {
      "byteLimit": 2048000,
      "rowLimit": 10000
     },
     "inputWidgets": {},
     "nuid": "a0e8b8f3-0b3d-487c-ae10-217dde6c1dc3",
     "showTitle": false,
     "tableResultSettingsMap": {},
     "title": ""
    }
   },
   "outputs": [],
   "source": [
    "tokenizer = Tokenizer(inputCol=\"text\", outputCol=\"words\")"
   ]
  },
  {
   "cell_type": "code",
   "execution_count": 0,
   "metadata": {
    "application/vnd.databricks.v1+cell": {
     "cellMetadata": {
      "byteLimit": 2048000,
      "rowLimit": 10000
     },
     "inputWidgets": {},
     "nuid": "089449eb-f3f1-4c77-bfde-3223916fda3c",
     "showTitle": false,
     "tableResultSettingsMap": {},
     "title": ""
    }
   },
   "outputs": [],
   "source": [
    "remover = StopWordsRemover(inputCol=\"words\", outputCol=\"filtered_words\")"
   ]
  },
  {
   "cell_type": "code",
   "execution_count": 0,
   "metadata": {
    "application/vnd.databricks.v1+cell": {
     "cellMetadata": {
      "byteLimit": 2048000,
      "rowLimit": 10000
     },
     "inputWidgets": {},
     "nuid": "0d07150e-2ea8-4d45-af8c-a2f73a227991",
     "showTitle": false,
     "tableResultSettingsMap": {},
     "title": ""
    }
   },
   "outputs": [],
   "source": [
    "w2v = Word2Vec(vectorSize=100, minCount=1, inputCol=\"filtered_words\", outputCol=\"features\")"
   ]
  },
  {
   "cell_type": "code",
   "execution_count": 0,
   "metadata": {
    "application/vnd.databricks.v1+cell": {
     "cellMetadata": {
      "byteLimit": 2048000,
      "rowLimit": 10000
     },
     "inputWidgets": {},
     "nuid": "2cea91e4-fe9c-4f27-a7e6-66a99f4c78c5",
     "showTitle": false,
     "tableResultSettingsMap": {},
     "title": ""
    }
   },
   "outputs": [],
   "source": [
    "lr = LogisticRegression(featuresCol=\"features\", labelCol=\"label\")"
   ]
  },
  {
   "cell_type": "code",
   "execution_count": 0,
   "metadata": {
    "application/vnd.databricks.v1+cell": {
     "cellMetadata": {
      "byteLimit": 2048000,
      "rowLimit": 10000
     },
     "inputWidgets": {},
     "nuid": "0aa3a881-29fe-4a7f-8688-4afb59af0796",
     "showTitle": false,
     "tableResultSettingsMap": {},
     "title": ""
    }
   },
   "outputs": [],
   "source": [
    "pipeline = Pipeline(stages=[tokenizer, remover, w2v, lr])"
   ]
  },
  {
   "cell_type": "markdown",
   "metadata": {
    "application/vnd.databricks.v1+cell": {
     "cellMetadata": {
      "byteLimit": 2048000,
      "rowLimit": 10000
     },
     "inputWidgets": {},
     "nuid": "0ae86224-f2f7-4d20-93e4-9644b9ee5a0a",
     "showTitle": false,
     "tableResultSettingsMap": {},
     "title": ""
    }
   },
   "source": [
    "## Model Training"
   ]
  },
  {
   "cell_type": "code",
   "execution_count": 0,
   "metadata": {
    "application/vnd.databricks.v1+cell": {
     "cellMetadata": {
      "byteLimit": 2048000,
      "rowLimit": 10000
     },
     "inputWidgets": {},
     "nuid": "654da624-03cd-4143-a9aa-e8a07892cda1",
     "showTitle": false,
     "tableResultSettingsMap": {},
     "title": ""
    }
   },
   "outputs": [],
   "source": [
    "model = pipeline.fit(train_df)"
   ]
  },
  {
   "cell_type": "code",
   "execution_count": 0,
   "metadata": {
    "application/vnd.databricks.v1+cell": {
     "cellMetadata": {
      "byteLimit": 2048000,
      "rowLimit": 10000
     },
     "inputWidgets": {},
     "nuid": "a2b4ae97-1de5-4c0b-85ed-79cc61772199",
     "showTitle": false,
     "tableResultSettingsMap": {},
     "title": ""
    }
   },
   "outputs": [],
   "source": [
    "predictions = model.transform(test_df)"
   ]
  },
  {
   "cell_type": "markdown",
   "metadata": {
    "application/vnd.databricks.v1+cell": {
     "cellMetadata": {
      "byteLimit": 2048000,
      "rowLimit": 10000
     },
     "inputWidgets": {},
     "nuid": "9156682b-5aa2-4685-8a4d-610d73934d5e",
     "showTitle": false,
     "tableResultSettingsMap": {},
     "title": ""
    }
   },
   "source": [
    "## Model Evaluation"
   ]
  },
  {
   "cell_type": "code",
   "execution_count": 0,
   "metadata": {
    "application/vnd.databricks.v1+cell": {
     "cellMetadata": {
      "byteLimit": 2048000,
      "rowLimit": 10000
     },
     "inputWidgets": {},
     "nuid": "a5b112eb-b31e-412d-8337-a076b3ab1ab9",
     "showTitle": false,
     "tableResultSettingsMap": {},
     "title": ""
    }
   },
   "outputs": [],
   "source": [
    "evaluator = BinaryClassificationEvaluator(rawPredictionCol=\"rawPrediction\", labelCol=\"label\")\n",
    "accuracy = evaluator.evaluate(predictions)"
   ]
  },
  {
   "cell_type": "code",
   "execution_count": 0,
   "metadata": {
    "application/vnd.databricks.v1+cell": {
     "cellMetadata": {
      "byteLimit": 2048000,
      "rowLimit": 10000
     },
     "inputWidgets": {},
     "nuid": "d097a8b6-50e3-45e6-a013-077ffeda3029",
     "showTitle": false,
     "tableResultSettingsMap": {},
     "title": ""
    }
   },
   "outputs": [
    {
     "output_type": "stream",
     "name": "stdout",
     "output_type": "stream",
     "text": [
      "AUC ROC no conjunto de teste: 0.9667104743225109\n"
     ]
    }
   ],
   "source": [
    "print(\"AUC ROC no conjunto de teste:\", accuracy)"
   ]
  },
  {
   "cell_type": "code",
   "execution_count": 0,
   "metadata": {
    "application/vnd.databricks.v1+cell": {
     "cellMetadata": {
      "byteLimit": 2048000,
      "rowLimit": 10000
     },
     "inputWidgets": {},
     "nuid": "4c9fe3b1-3b5b-4b98-aa08-3295dd138ed0",
     "showTitle": false,
     "tableResultSettingsMap": {},
     "title": ""
    }
   },
   "outputs": [
    {
     "output_type": "stream",
     "name": "stdout",
     "output_type": "stream",
     "text": [
      "+-----------------------------------------------------------------------------------------+-----+----------+------------------------------------------+\n|text                                                                                     |label|prediction|probability                               |\n+-----------------------------------------------------------------------------------------+-----+----------+------------------------------------------+\n|                                                                                         |0    |0.0       |[0.6134628152876894,0.3865371847123106]   |\n|                                                                                         |0    |0.0       |[0.6134628152876894,0.3865371847123106]   |\n|                                                                                         |0    |0.0       |[0.6134628152876894,0.3865371847123106]   |\n|                                                                                         |0    |0.0       |[0.6134628152876894,0.3865371847123106]   |\n|aaa today last exam right                                                                |0    |0.0       |[0.6215488245059705,0.3784511754940295]   |\n|aap congress hell bent vitiat communal harmoni punjab bjp leader                         |0    |0.0       |[0.5017621446222205,0.49823785537777954]  |\n|aarakshan hindustan father n teacher day                                                 |0    |0.0       |[0.8823035574475858,0.11769644255241418]  |\n|abbi nike black write america pornhub click watch                                        |0    |1.0       |[0.4125849638714736,0.5874150361285264]   |\n|abbu thank u everyth u father day                                                        |0    |0.0       |[0.9463455369178416,0.05365446308215838]  |\n|abbyybell na porn nasti horni nude kinki shi sexi young naughti hot xxx slut wet snapshot|0    |0.0       |[0.7505095107900551,0.24949048920994488]  |\n|abl advoc deaf friend caption play last night local park food amp flick advocaci         |0    |0.0       |[0.7833746372461075,0.21662536275389255]  |\n|abl catch last eclips show broadway lupita bestplay                                      |0    |0.0       |[0.6915566562077049,0.3084433437922951]   |\n|absolut best day sister graduat bestday famili graduat lotd ootd                         |0    |0.0       |[0.9815661945746308,0.01843380542536921]  |\n|absolut disgust need                                                                     |0    |1.0       |[0.27653715772574156,0.7234628422742584]  |\n|absolut favourit love coupl boyfriend favourit cute lucki                                |0    |0.0       |[0.9892473997577925,0.010752600242207477] |\n|absolut love train today met lot amaz peopl leed buis livelifetoful success              |0    |0.0       |[0.9674093227591087,0.032590677240891264] |\n|absolut posit right                                                                      |0    |0.0       |[0.9989327301804027,0.0010672698195972607]|\n|absolut terribl pic nice one clara though wharf sunshin place                            |0    |0.0       |[0.8799208561695898,0.12007914383041018]  |\n|abstractaist polar bear climb race angri polar bear climb race polar bear live cold plac |0    |0.0       |[0.963720870619479,0.036279129380521025]  |\n|accept fall env engin master program u wisconsin dualenrol engin geoscienc user          |0    |0.0       |[0.8099293079937829,0.19007069200621707]  |\n+-----------------------------------------------------------------------------------------+-----+----------+------------------------------------------+\nonly showing top 20 rows\n"
     ]
    }
   ],
   "source": [
    "predictions.select(\"text\", \"label\", \"prediction\", \"probability\").show(truncate=False)"
   ]
  },
  {
   "cell_type": "code",
   "execution_count": 0,
   "metadata": {
    "application/vnd.databricks.v1+cell": {
     "cellMetadata": {
      "byteLimit": 2048000,
      "rowLimit": 10000
     },
     "inputWidgets": {},
     "nuid": "73c3fcb7-df09-4dc5-9d07-827b58fb2567",
     "showTitle": false,
     "tableResultSettingsMap": {},
     "title": ""
    }
   },
   "outputs": [],
   "source": [
    "predictions = model.transform(df_test)"
   ]
  },
  {
   "cell_type": "code",
   "execution_count": 0,
   "metadata": {
    "application/vnd.databricks.v1+cell": {
     "cellMetadata": {
      "byteLimit": 2048000,
      "rowLimit": 10000
     },
     "inputWidgets": {},
     "nuid": "d00005ad-5f2b-4938-a889-731c082ef0e6",
     "showTitle": false,
     "tableResultSettingsMap": {},
     "title": ""
    }
   },
   "outputs": [
    {
     "output_type": "stream",
     "name": "stdout",
     "output_type": "stream",
     "text": [
      "+-------------------------------------------------------------------------------------------------+----------+-----------------------------------------+\n|text                                                                                             |prediction|probability                              |\n+-------------------------------------------------------------------------------------------------+----------+-----------------------------------------+\n|selfish orlando standwithorlando pulseshoot orlandoshoot biggerproblem selfish heabreak valu love|0.0       |[0.9169141684853241,0.08308583151467586] |\n|yes call michelleobama gorilla racist long thought black peopl bet                               |1.0       |[0.419499949859492,0.580500050140508]    |\n|smaller hand show barri probabl lie knick game suck golf                                         |0.0       |[0.7665095731067063,0.2334904268932937]  |\n|user user point one finger user million point right back jewishsup                               |0.0       |[0.8326361010582256,0.1673638989417744]  |\n|This is the worst place, people here are so stupid.                                              |0.0       |[0.8707922945433453,0.12920770545665472] |\n|Have a wonderful day, you are awesome!                                                           |1.0       |[0.4938221297684903,0.5061778702315096]  |\n|I hate you, you don't belong here.                                                               |0.0       |[0.611106012136272,0.388893987863728]    |\n|Great job team, proud of the work!                                                               |0.0       |[0.9433657394510645,0.0566342605489355]  |\n|Go back to where you came from!                                                                  |0.0       |[0.910413537624182,0.08958646237581802]  |\n|Your ideas are interesting and inspiring.                                                        |1.0       |[0.4938221297684903,0.5061778702315096]  |\n|Nobody likes you, you are worthless.                                                             |1.0       |[0.4938221297684903,0.5061778702315096]  |\n|might libtard libtard sjw liber polit                                                            |1.0       |[7.293945141793617E-6,0.9999927060548582]|\n|user take trash america vote hate vote vote vot                                                  |1.0       |[0.12058285461724656,0.8794171453827534] |\n|hold open door woman woman nice thing even tri deni                                              |1.0       |[0.43047142895885754,0.5695285710411424] |\n|next school year year exam think school exam hate imagin actorslif revolutionschool girl         |0.0       |[0.9229611254320085,0.07703887456799152] |\n|love land allin cav champion cleveland clevelandcavali                                           |0.0       |[0.7744987141077538,0.22550128589224616] |\n|user user welcom                                                                                 |0.0       |[0.9870328173436416,0.012967182656358434]|\n|ireland consum price index mom climb previous may blog silver gold forex                         |0.0       |[0.9555243296687344,0.04447567033126565] |\n|I really love this community, everyone is so kind!                                               |0.0       |[0.6633801385845652,0.33661986141543476] |\n+-------------------------------------------------------------------------------------------------+----------+-----------------------------------------+\n\n"
     ]
    }
   ],
   "source": [
    "predictions.select(\"text\", \"prediction\", \"probability\").show(truncate=False)"
   ]
  },
  {
   "cell_type": "markdown",
   "metadata": {
    "application/vnd.databricks.v1+cell": {
     "cellMetadata": {
      "byteLimit": 2048000,
      "rowLimit": 10000
     },
     "inputWidgets": {},
     "nuid": "1955112f-bd45-4295-bf51-02e21e7e6f39",
     "showTitle": false,
     "tableResultSettingsMap": {},
     "title": ""
    }
   },
   "source": [
    "## Model Fine-Tuning"
   ]
  },
  {
   "cell_type": "code",
   "execution_count": 0,
   "metadata": {
    "application/vnd.databricks.v1+cell": {
     "cellMetadata": {
      "byteLimit": 2048000,
      "rowLimit": 10000
     },
     "inputWidgets": {},
     "nuid": "41bfa69f-be20-4417-851f-0f29bb242e51",
     "showTitle": false,
     "tableResultSettingsMap": {},
     "title": ""
    }
   },
   "outputs": [],
   "source": [
    "evaluator = BinaryClassificationEvaluator(labelCol=\"label\", rawPredictionCol=\"prediction\", metricName=\"areaUnderROC\")"
   ]
  },
  {
   "cell_type": "markdown",
   "metadata": {
    "application/vnd.databricks.v1+cell": {
     "cellMetadata": {
      "byteLimit": 2048000,
      "rowLimit": 10000
     },
     "inputWidgets": {},
     "nuid": "c61eac76-4a7c-4feb-8a85-daf886ca13b2",
     "showTitle": false,
     "tableResultSettingsMap": {},
     "title": ""
    }
   },
   "source": [
    "Exploratory Param Grid Builder"
   ]
  },
  {
   "cell_type": "code",
   "execution_count": 0,
   "metadata": {
    "application/vnd.databricks.v1+cell": {
     "cellMetadata": {
      "byteLimit": 2048000,
      "rowLimit": 10000
     },
     "inputWidgets": {},
     "nuid": "48f8ef98-bad2-4f3c-81b5-ea12481e353c",
     "showTitle": false,
     "tableResultSettingsMap": {},
     "title": ""
    }
   },
   "outputs": [],
   "source": [
    "# paramGrid = ParamGridBuilder() \\\n",
    "#     .addGrid(w2v.vectorSize, [100, 200, 300]) \\\n",
    "#     .addGrid(w2v.windowSize, [3, 5, 7]) \\\n",
    "#     .addGrid(lr.regParam, [0.01, 0.1, 1.0]) \\\n",
    "#     .addGrid(lr.elasticNetParam, [0.0, 0.5, 1.0]) \\\n",
    "#     .build()"
   ]
  },
  {
   "cell_type": "markdown",
   "metadata": {
    "application/vnd.databricks.v1+cell": {
     "cellMetadata": {
      "byteLimit": 2048000,
      "rowLimit": 10000
     },
     "inputWidgets": {},
     "nuid": "b422e434-3ef7-4211-927a-071c76169cf8",
     "showTitle": false,
     "tableResultSettingsMap": {},
     "title": ""
    }
   },
   "source": [
    "Better Param Grid Builder"
   ]
  },
  {
   "cell_type": "code",
   "execution_count": 0,
   "metadata": {
    "application/vnd.databricks.v1+cell": {
     "cellMetadata": {
      "byteLimit": 2048000,
      "rowLimit": 10000
     },
     "inputWidgets": {},
     "nuid": "8101b9d8-0297-4228-b999-9467d0655c71",
     "showTitle": false,
     "tableResultSettingsMap": {},
     "title": ""
    }
   },
   "outputs": [],
   "source": [
    "paramGrid = ParamGridBuilder() \\\n",
    "    .addGrid(w2v.vectorSize, [100]) \\\n",
    "    .addGrid(w2v.windowSize, [5]) \\\n",
    "    .addGrid(lr.regParam, [0.01]) \\\n",
    "    .addGrid(lr.elasticNetParam, [0.0]) \\\n",
    "    .build()"
   ]
  },
  {
   "cell_type": "code",
   "execution_count": 0,
   "metadata": {
    "application/vnd.databricks.v1+cell": {
     "cellMetadata": {
      "byteLimit": 2048000,
      "rowLimit": 10000
     },
     "inputWidgets": {},
     "nuid": "decae5a2-176a-463f-9f59-982a12284a56",
     "showTitle": false,
     "tableResultSettingsMap": {},
     "title": ""
    }
   },
   "outputs": [],
   "source": [
    "cv = CrossValidator( \\\n",
    "    estimator=pipeline, \\\n",
    "    estimatorParamMaps=paramGrid, \\\n",
    "    evaluator=evaluator, \\\n",
    "    numFolds=3)"
   ]
  },
  {
   "cell_type": "code",
   "execution_count": 0,
   "metadata": {
    "application/vnd.databricks.v1+cell": {
     "cellMetadata": {
      "byteLimit": 2048000,
      "rowLimit": 10000
     },
     "inputWidgets": {},
     "nuid": "5b9908d1-4df3-4409-bc0f-ecf51bbff0ee",
     "showTitle": false,
     "tableResultSettingsMap": {},
     "title": ""
    }
   },
   "outputs": [],
   "source": [
    "cv_model = cv.fit(train_df)"
   ]
  },
  {
   "cell_type": "code",
   "execution_count": 0,
   "metadata": {
    "application/vnd.databricks.v1+cell": {
     "cellMetadata": {
      "byteLimit": 2048000,
      "rowLimit": 10000
     },
     "inputWidgets": {},
     "nuid": "b0cb366c-4e9b-4d88-bb71-3e8682509ff7",
     "showTitle": false,
     "tableResultSettingsMap": {},
     "title": ""
    }
   },
   "outputs": [],
   "source": [
    "predictions = cv_model.transform(test_df)"
   ]
  },
  {
   "cell_type": "code",
   "execution_count": 0,
   "metadata": {
    "application/vnd.databricks.v1+cell": {
     "cellMetadata": {
      "byteLimit": 2048000,
      "rowLimit": 10000
     },
     "inputWidgets": {},
     "nuid": "7b022e90-71cd-4102-ade8-e9d868d8d36e",
     "showTitle": false,
     "tableResultSettingsMap": {},
     "title": ""
    }
   },
   "outputs": [
    {
     "output_type": "stream",
     "name": "stdout",
     "output_type": "stream",
     "text": [
      "AUC ROC no conjunto de teste: 0.8958838403838761\n"
     ]
    }
   ],
   "source": [
    "accuracy = evaluator.evaluate(predictions)\n",
    "print(\"AUC ROC no conjunto de teste:\", accuracy)"
   ]
  },
  {
   "cell_type": "code",
   "execution_count": 0,
   "metadata": {
    "application/vnd.databricks.v1+cell": {
     "cellMetadata": {
      "byteLimit": 2048000,
      "rowLimit": 10000
     },
     "inputWidgets": {},
     "nuid": "fe143e96-f56b-470c-8f80-356299790fc4",
     "showTitle": false,
     "tableResultSettingsMap": {},
     "title": ""
    }
   },
   "outputs": [
    {
     "output_type": "stream",
     "name": "stdout",
     "output_type": "stream",
     "text": [
      "+-----------------------------------------------------------------------------------------+----------+------------------------------------------+\n|text                                                                                     |prediction|probability                               |\n+-----------------------------------------------------------------------------------------+----------+------------------------------------------+\n|                                                                                         |0.0       |[0.5034571701115391,0.4965428298884609]   |\n|                                                                                         |0.0       |[0.5034571701115391,0.4965428298884609]   |\n|                                                                                         |0.0       |[0.5034571701115391,0.4965428298884609]   |\n|                                                                                         |0.0       |[0.5034571701115391,0.4965428298884609]   |\n|aaa today last exam right                                                                |0.0       |[0.6175948530788089,0.3824051469211911]   |\n|aap congress hell bent vitiat communal harmoni punjab bjp leader                         |1.0       |[0.47795628806244617,0.5220437119375538]  |\n|aarakshan hindustan father n teacher day                                                 |0.0       |[0.8815381400666085,0.11846185993339153]  |\n|abbi nike black write america pornhub click watch                                        |0.0       |[0.5519066894306581,0.4480933105693419]   |\n|abbu thank u everyth u father day                                                        |0.0       |[0.8616034515612662,0.13839654843873384]  |\n|abbyybell na porn nasti horni nude kinki shi sexi young naughti hot xxx slut wet snapshot|1.0       |[0.37307225643593944,0.6269277435640606]  |\n|abl advoc deaf friend caption play last night local park food amp flick advocaci         |0.0       |[0.8352239478924747,0.16477605210752533]  |\n|abl catch last eclips show broadway lupita bestplay                                      |0.0       |[0.7006947310781272,0.2993052689218728]   |\n|absolut best day sister graduat bestday famili graduat lotd ootd                         |0.0       |[0.9751281113882423,0.02487188861175771]  |\n|absolut disgust need                                                                     |1.0       |[0.27491375714779553,0.7250862428522045]  |\n|absolut favourit love coupl boyfriend favourit cute lucki                                |0.0       |[0.982650723885729,0.01734927611427095]   |\n|absolut love train today met lot amaz peopl leed buis livelifetoful success              |0.0       |[0.897979646774244,0.10202035322575598]   |\n|absolut posit right                                                                      |0.0       |[0.9970113990362668,0.0029886009637332123]|\n|absolut terribl pic nice one clara though wharf sunshin place                            |0.0       |[0.9355190091256949,0.06448099087430514]  |\n|abstractaist polar bear climb race angri polar bear climb race polar bear live cold plac |0.0       |[0.875637717727405,0.12436228227259505]   |\n|accept fall env engin master program u wisconsin dualenrol engin geoscienc user          |0.0       |[0.7273204379927787,0.2726795620072213]   |\n+-----------------------------------------------------------------------------------------+----------+------------------------------------------+\nonly showing top 20 rows\n"
     ]
    }
   ],
   "source": [
    "predictions.select(\"text\", \"prediction\", \"probability\").show(truncate=False)"
   ]
  },
  {
   "cell_type": "markdown",
   "metadata": {
    "application/vnd.databricks.v1+cell": {
     "cellMetadata": {
      "byteLimit": 2048000,
      "rowLimit": 10000
     },
     "inputWidgets": {},
     "nuid": "62ac4f94-c9e6-4d2d-bfb4-f857cd6bac3e",
     "showTitle": false,
     "tableResultSettingsMap": {},
     "title": ""
    }
   },
   "source": [
    "## Log and Save Model in Unity Catalog"
   ]
  },
  {
   "cell_type": "code",
   "execution_count": 0,
   "metadata": {
    "application/vnd.databricks.v1+cell": {
     "cellMetadata": {
      "byteLimit": 2048000,
      "rowLimit": 10000
     },
     "inputWidgets": {},
     "nuid": "c404f1b1-6b88-4fb5-8069-a4a20092eb73",
     "showTitle": false,
     "tableResultSettingsMap": {},
     "title": ""
    }
   },
   "outputs": [],
   "source": [
    "input_schema = Schema([\n",
    "    ColSpec(\"string\", \"text\")\n",
    "])"
   ]
  },
  {
   "cell_type": "code",
   "execution_count": 0,
   "metadata": {
    "application/vnd.databricks.v1+cell": {
     "cellMetadata": {
      "byteLimit": 2048000,
      "rowLimit": 10000
     },
     "inputWidgets": {},
     "nuid": "215aaabd-dd63-47d7-afec-8c6a11e1616c",
     "showTitle": false,
     "tableResultSettingsMap": {},
     "title": ""
    }
   },
   "outputs": [],
   "source": [
    "output_schema = Schema([\n",
    "    ColSpec(\"double\", \"prediction\")\n",
    "])"
   ]
  },
  {
   "cell_type": "code",
   "execution_count": 0,
   "metadata": {
    "application/vnd.databricks.v1+cell": {
     "cellMetadata": {
      "byteLimit": 2048000,
      "rowLimit": 10000
     },
     "inputWidgets": {},
     "nuid": "a0dabf6c-eccd-42de-8b2b-7506af91f137",
     "showTitle": false,
     "tableResultSettingsMap": {},
     "title": ""
    }
   },
   "outputs": [],
   "source": [
    "signature = ModelSignature(inputs=input_schema, outputs=output_schema)"
   ]
  },
  {
   "cell_type": "code",
   "execution_count": 0,
   "metadata": {
    "application/vnd.databricks.v1+cell": {
     "cellMetadata": {
      "byteLimit": 2048000,
      "rowLimit": 10000
     },
     "inputWidgets": {},
     "nuid": "75821528-7493-4bcc-a74d-8523e43d876d",
     "showTitle": false,
     "tableResultSettingsMap": {},
     "title": ""
    }
   },
   "outputs": [
    {
     "output_type": "stream",
     "name": "stderr",
     "output_type": "stream",
     "text": [
      "2025/10/07 17:16:08 INFO mlflow.spark: Inferring pip requirements by reloading the logged model from the databricks artifact repository, which can be time-consuming. To speed up, explicitly specify the conda_env or pip_requirements when calling log_model().\n"
     ]
    },
    {
     "output_type": "display_data",
     "data": {
      "application/vnd.jupyter.widget-view+json": {
       "model_id": "bda76c3627644f1496abcbfc15bdca0d",
       "version_major": 2,
       "version_minor": 0
      },
      "text/plain": [
       "Downloading artifacts:   0%|          | 0/35 [00:00<?, ?it/s]"
      ]
     },
     "metadata": {},
     "output_type": "display_data"
    },
    {
     "output_type": "stream",
     "name": "stderr",
     "output_type": "stream",
     "text": [
      "2025/10/07 17:16:56 WARNING mlflow.utils.environment: Encountered an unexpected error while inferring pip requirements (model URI: dbfs:/databricks/mlflow-tracking/f90b100341ad4b9891d0d8c01ecbd639/2de5e55fe21442eabd3afdb4fe0619a5/artifacts/hate_speech_model/sparkml, flavor: spark). Fall back to return ['pyspark==3.5.2']. Set logging level to DEBUG to see the full traceback. \n"
     ]
    },
    {
     "output_type": "display_data",
     "data": {
      "application/vnd.jupyter.widget-view+json": {
       "model_id": "2f8f0d47808241d7bbecec24fb69414b",
       "version_major": 2,
       "version_minor": 0
      },
      "text/plain": [
       "Uploading artifacts:   0%|          | 0/4 [00:00<?, ?it/s]"
      ]
     },
     "metadata": {},
     "output_type": "display_data"
    },
    {
     "output_type": "stream",
     "name": "stderr",
     "output_type": "stream",
     "text": [
      "Registered model 'nlp_analysis.machine_learning_models.hate_speech_fine_tunned_model' already exists. Creating a new version of this model...\n"
     ]
    },
    {
     "output_type": "display_data",
     "data": {
      "application/vnd.jupyter.widget-view+json": {
       "model_id": "657748caad9249619197202242949ca5",
       "version_major": 2,
       "version_minor": 0
      },
      "text/plain": [
       "Downloading artifacts:   0%|          | 0/39 [00:00<?, ?it/s]"
      ]
     },
     "metadata": {},
     "output_type": "display_data"
    },
    {
     "output_type": "display_data",
     "data": {
      "application/vnd.jupyter.widget-view+json": {
       "model_id": "22cef21388424d78bb8dca58501e686e",
       "version_major": 2,
       "version_minor": 0
      },
      "text/plain": [
       "Uploading artifacts:   0%|          | 0/39 [00:00<?, ?it/s]"
      ]
     },
     "metadata": {},
     "output_type": "display_data"
    },
    {
     "output_type": "stream",
     "name": "stderr",
     "output_type": "stream",
     "text": [
      "Created version '3' of model 'nlp_analysis.machine_learning_models.hate_speech_fine_tunned_model'.\n"
     ]
    }
   ],
   "source": [
    "with mlflow.start_run(run_name=\"nlp_hate_speech_fine_tunned_model\"):\n",
    "    mlflow.spark.log_model(\n",
    "        spark_model=cv_model.bestModel,\n",
    "        artifact_path=\"hate_speech_model\",\n",
    "        registered_model_name=\"nlp_analysis.machine_learning_models.hate_speech_fine_tunned_model\",\n",
    "        signature=signature\n",
    "    )"
   ]
  }
 ],
 "metadata": {
  "application/vnd.databricks.v1+notebook": {
   "computePreferences": null,
   "dashboards": [],
   "environmentMetadata": {
    "base_environment": "",
    "environment_version": "3"
   },
   "inputWidgetPreferences": null,
   "language": "python",
   "notebookMetadata": {
    "pythonIndentUnit": 4
   },
   "notebookName": "ml_train_tweets_sentiment_analysis",
   "widgets": {}
  },
  "language_info": {
   "name": "python"
  }
 },
 "nbformat": 4,
 "nbformat_minor": 0
}